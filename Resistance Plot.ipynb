{
 "cells": [
  {
   "cell_type": "code",
   "execution_count": 1,
   "metadata": {},
   "outputs": [],
   "source": [
    "import pandas as pd\n",
    "import pandas_datareader.data as pdr\n",
    "import matplotlib.pyplot as plt\n",
    "import datetime as dt\n",
    "import yfinance as yf"
   ]
  },
  {
   "cell_type": "code",
   "execution_count": 2,
   "metadata": {},
   "outputs": [
    {
     "name": "stdout",
     "output_type": "stream",
     "text": [
      "[*********************100%***********************]  1 of 1 completed\n"
     ]
    },
    {
     "data": {
      "text/html": [
       "<div>\n",
       "<style scoped>\n",
       "    .dataframe tbody tr th:only-of-type {\n",
       "        vertical-align: middle;\n",
       "    }\n",
       "\n",
       "    .dataframe tbody tr th {\n",
       "        vertical-align: top;\n",
       "    }\n",
       "\n",
       "    .dataframe thead th {\n",
       "        text-align: right;\n",
       "    }\n",
       "</style>\n",
       "<table border=\"1\" class=\"dataframe\">\n",
       "  <thead>\n",
       "    <tr style=\"text-align: right;\">\n",
       "      <th></th>\n",
       "      <th>Open</th>\n",
       "      <th>High</th>\n",
       "      <th>Low</th>\n",
       "      <th>Close</th>\n",
       "      <th>Adj Close</th>\n",
       "      <th>Volume</th>\n",
       "    </tr>\n",
       "    <tr>\n",
       "      <th>Date</th>\n",
       "      <th></th>\n",
       "      <th></th>\n",
       "      <th></th>\n",
       "      <th></th>\n",
       "      <th></th>\n",
       "      <th></th>\n",
       "    </tr>\n",
       "  </thead>\n",
       "  <tbody>\n",
       "    <tr>\n",
       "      <th>2019-05-31</th>\n",
       "      <td>37.020000</td>\n",
       "      <td>37.984001</td>\n",
       "      <td>36.820000</td>\n",
       "      <td>37.032001</td>\n",
       "      <td>37.032001</td>\n",
       "      <td>52033500</td>\n",
       "    </tr>\n",
       "    <tr>\n",
       "      <th>2019-06-03</th>\n",
       "      <td>37.102001</td>\n",
       "      <td>37.335999</td>\n",
       "      <td>35.397999</td>\n",
       "      <td>35.793999</td>\n",
       "      <td>35.793999</td>\n",
       "      <td>65322000</td>\n",
       "    </tr>\n",
       "    <tr>\n",
       "      <th>2019-06-04</th>\n",
       "      <td>36.220001</td>\n",
       "      <td>38.796001</td>\n",
       "      <td>35.922001</td>\n",
       "      <td>38.720001</td>\n",
       "      <td>38.720001</td>\n",
       "      <td>69037500</td>\n",
       "    </tr>\n",
       "    <tr>\n",
       "      <th>2019-06-05</th>\n",
       "      <td>39.736000</td>\n",
       "      <td>40.256001</td>\n",
       "      <td>38.369999</td>\n",
       "      <td>39.318001</td>\n",
       "      <td>39.318001</td>\n",
       "      <td>67554000</td>\n",
       "    </tr>\n",
       "    <tr>\n",
       "      <th>2019-06-06</th>\n",
       "      <td>40.888000</td>\n",
       "      <td>42.200001</td>\n",
       "      <td>40.360001</td>\n",
       "      <td>41.189999</td>\n",
       "      <td>41.189999</td>\n",
       "      <td>101211000</td>\n",
       "    </tr>\n",
       "  </tbody>\n",
       "</table>\n",
       "</div>"
      ],
      "text/plain": [
       "                 Open       High        Low      Close  Adj Close     Volume\n",
       "Date                                                                        \n",
       "2019-05-31  37.020000  37.984001  36.820000  37.032001  37.032001   52033500\n",
       "2019-06-03  37.102001  37.335999  35.397999  35.793999  35.793999   65322000\n",
       "2019-06-04  36.220001  38.796001  35.922001  38.720001  38.720001   69037500\n",
       "2019-06-05  39.736000  40.256001  38.369999  39.318001  39.318001   67554000\n",
       "2019-06-06  40.888000  42.200001  40.360001  41.189999  41.189999  101211000"
      ]
     },
     "execution_count": 2,
     "metadata": {},
     "output_type": "execute_result"
    }
   ],
   "source": [
    "yf.pdr_override()\n",
    "\n",
    "stock = 'tsla'\n",
    "\n",
    "start=dt.datetime(2019,6,1)\n",
    "now =dt.datetime.now()\n",
    "\n",
    "df = pdr.get_data_yahoo(stock,start,now)\n",
    "\n",
    "df.head()"
   ]
  },
  {
   "cell_type": "code",
   "execution_count": 6,
   "metadata": {},
   "outputs": [
    {
     "name": "stdout",
     "output_type": "stream",
     "text": [
      "46.95:2019-06-18 00:00:00\n",
      "48.31:2019-07-03 00:00:00\n",
      "53.21:2019-07-24 00:00:00\n",
      "50.7:2019-09-12 00:00:00\n",
      "49.74:2019-09-27 00:00:00\n",
      "68.17:2019-10-28 00:00:00\n",
      "72.24:2019-11-20 00:00:00\n",
      "118.9:2020-01-22 00:00:00\n",
      "193.8:2020-02-04 00:00:00\n",
      "188.96:2020-02-19 00:00:00\n",
      "154.99:2020-04-17 00:00:00\n",
      "173.96:2020-04-30 00:00:00\n",
      "205.5:2020-06-10 00:00:00\n",
      "359.0:2020-07-13 00:00:00\n",
      "502.49:2020-09-01 00:00:00\n",
      "465.9:2020-10-14 00:00:00\n",
      "452.5:2020-11-09 00:00:00\n",
      "654.32:2020-12-09 00:00:00\n",
      "695.0:2020-12-18 00:00:00\n",
      "884.49:2021-01-08 00:00:00\n",
      "900.4:2021-01-25 00:00:00\n",
      "708.16:2021-04-05 00:00:00\n",
      "780.79:2021-04-14 00:00:00\n"
     ]
    },
    {
     "data": {
      "text/plain": [
       "<AxesSubplot:xlabel='Date'>"
      ]
     },
     "execution_count": 6,
     "metadata": {},
     "output_type": "execute_result"
    },
    {
     "data": {
      "image/png": "[encoded data removed]",
      "text/plain": [
       "<Figure size 432x288 with 1 Axes>"
      ]
     },
     "metadata": {
      "needs_background": "light"
     },
     "output_type": "display_data"
    }
   ],
   "source": [
    "pivots =[]\n",
    "dates =[]\n",
    "value_range = [0,0,0,0,0,0,0,0,0,0,0]\n",
    "date_range = [0,0,0,0,0,0,0,0,0,0,0]\n",
    "\n",
    "counter =0\n",
    "\n",
    "for i in df.index:\n",
    "    value = max(value_range)\n",
    "    value_range = value_range[1:9]\n",
    "    value_range.append(round(df['High'][i],2))\n",
    "    date_range=date_range[1:9]\n",
    "    date_range.append(i)\n",
    "    \n",
    "    if value==max(value_range):\n",
    "        counter+=1\n",
    "    if value<max(value_range):\n",
    "        counter =0\n",
    "    \n",
    "    if counter ==5:\n",
    "        date_index = value_range.index(value)\n",
    "        date_pivot = date_range[date_index]\n",
    "        pivots.append(value)\n",
    "        dates.append(date_pivot)\n",
    " \n",
    "\n",
    "for i in range(len(pivots)):\n",
    "    print (str(pivots[i])+ ':'+ str(dates[i]))\n",
    "\n",
    "for i in range(len(pivots)):\n",
    "    extra_dates = [x + dt.timedelta(30) for x in dates]\n",
    "\n",
    "\n",
    "plt.plot([dates,extra_dates],[pivots,pivots],color='black',linewidth=2,marker=',')\n",
    "df['High'].plot()"
   ]
  },
  {
   "cell_type": "code",
   "execution_count": 5,
   "metadata": {},
   "outputs": [
    {
     "name": "stdout",
     "output_type": "stream",
     "text": [
      "46.95:2019-06-18 00:00:00\n",
      "48.31:2019-07-03 00:00:00\n",
      "53.21:2019-07-24 00:00:00\n",
      "50.7:2019-09-12 00:00:00\n",
      "49.74:2019-09-27 00:00:00\n",
      "68.17:2019-10-28 00:00:00\n",
      "72.24:2019-11-20 00:00:00\n",
      "118.9:2020-01-22 00:00:00\n",
      "193.8:2020-02-04 00:00:00\n",
      "188.96:2020-02-19 00:00:00\n",
      "154.99:2020-04-17 00:00:00\n",
      "173.96:2020-04-30 00:00:00\n",
      "205.5:2020-06-10 00:00:00\n",
      "359.0:2020-07-13 00:00:00\n",
      "502.49:2020-09-01 00:00:00\n",
      "465.9:2020-10-14 00:00:00\n",
      "452.5:2020-11-09 00:00:00\n",
      "654.32:2020-12-09 00:00:00\n",
      "695.0:2020-12-18 00:00:00\n",
      "884.49:2021-01-08 00:00:00\n",
      "900.4:2021-01-25 00:00:00\n",
      "708.16:2021-04-05 00:00:00\n",
      "780.79:2021-04-14 00:00:00\n"
     ]
    },
    {
     "data": {
      "text/plain": [
       "<AxesSubplot:xlabel='Date'>"
      ]
     },
     "execution_count": 5,
     "metadata": {},
     "output_type": "execute_result"
    },
    {
     "data": {
      "image/png": "[encoded data removed]",
      "text/plain": [
       "<Figure size 432x288 with 1 Axes>"
      ]
     },
     "metadata": {
      "needs_background": "light"
     },
     "output_type": "display_data"
    }
   ],
   "source": [
    "#alternative plot method as seen in vid\n",
    "\n",
    "for i in range(len(pivots)):\n",
    "    print (str(pivots[i]) + ':' + str(dates[i]))\n",
    "    \n",
    "    plt.plot_date([dates[i],dates[i]+dt.timedelta(days=30)],[pivots[i],pivots[i]],linestyle = '-',marker=',',linewidth=2,color='black')\n",
    "\n",
    "df['High'].plot(label='high',legend = 'show')\n"
   ]
  },
  {
   "cell_type": "code",
   "execution_count": null,
   "metadata": {},
   "outputs": [],
   "source": []
  },
  {
   "cell_type": "code",
   "execution_count": null,
   "metadata": {},
   "outputs": [],
   "source": []
  }
 ],
 "metadata": {
  "kernelspec": {
   "display_name": "Python 3",
   "language": "python",
   "name": "python3"
  },
  "language_info": {
   "codemirror_mode": {
    "name": "ipython",
    "version": 3
   },
   "file_extension": ".py",
   "mimetype": "text/x-python",
   "name": "python",
   "nbconvert_exporter": "python",
   "pygments_lexer": "ipython3",
   "version": "3.8.5"
  }
 },
 "nbformat": 4,
 "nbformat_minor": 4
}
